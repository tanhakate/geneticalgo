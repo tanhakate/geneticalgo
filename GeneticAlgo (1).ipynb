{
 "cells": [
  {
   "cell_type": "code",
   "execution_count": 3,
   "metadata": {
    "collapsed": true
   },
   "outputs": [],
   "source": [
    "import matplotlib.pyplot as plt"
   ]
  },
  {
   "cell_type": "code",
   "execution_count": 8,
   "metadata": {
    "collapsed": true
   },
   "outputs": [],
   "source": [
    "### Genetic algorithm to fit a regression line of the form y=ax+b to a 2-variable dataset\n",
    "\n",
    "import random\n",
    "import numpy as np\n",
    "\n",
    "# load the data\n",
    "my_data_file = 'temp_data.npy'\n",
    "data = np.load(my_data_file)\n",
    "data = data[:]"
   ]
  },
  {
   "cell_type": "code",
   "execution_count": 17,
   "metadata": {},
   "outputs": [
    {
     "data": {
      "image/png": "[encoded data removed]",
      "text/plain": [
       "<matplotlib.figure.Figure at 0x1695cd3c160>"
      ]
     },
     "metadata": {},
     "output_type": "display_data"
    }
   ],
   "source": [
    "column1 = data[:,0]\n",
    "column2 = data[:,1]\n",
    "\n",
    "plt.xlabel('X coordinates')\n",
    "plt.ylabel('Y coordinates')\n",
    "plt.scatter(column1,column2,alpha=0.5)\n",
    "plt.show()"
   ]
  },
  {
   "cell_type": "code",
   "execution_count": 18,
   "metadata": {},
   "outputs": [
    {
     "name": "stdout",
     "output_type": "stream",
     "text": [
      "(0.53992593932107447, 70.709972206845848)\n"
     ]
    }
   ],
   "source": [
    "# scipy regression function to compare with the genetic algorithm's solutions\n",
    "from scipy import stats\n",
    "print(stats.linregress(data)[0:2])"
   ]
  },
  {
   "cell_type": "code",
   "execution_count": 40,
   "metadata": {
    "colab": {
     "autoexec": {
      "startup": false,
      "wait_interval": 0
     }
    },
    "colab_type": "code",
    "id": "3YZK-NWrZ6oY"
   },
   "outputs": [
    {
     "name": "stdout",
     "output_type": "stream",
     "text": [
      "The best solution is [  0.60412082  67.86377275]\n",
      "with error equal to approximately 27.9549259891\n"
     ]
    }
   ],
   "source": [
    "# parameters\n",
    "initial_pop_size = 200\n",
    "mutation_rate = 0.05\n",
    "num_generations = 30\n",
    "chromosome_length = 2\n",
    "num_survivors = 50 \n",
    "\n",
    "# functions\n",
    "\n",
    "def A(): \n",
    "\n",
    "    '''\n",
    "This function generates a population of solutions as a two dimensional array with dimensions population size (100) and chromosome length (2).\n",
    "It first uses numpy linspace to return a 5000 sample 1-D array of evenly spaced numbers over the interval (-1,80) \n",
    "In order to maintain diversity, the function then generates a random sample from the elements of the gene pool array.\n",
    "It accomplishes this without replacement and outputs an array of 100 rows and 2 columns\n",
    "There are no inputs for this function.\n",
    "    '''\n",
    "    gene_pool = np.linspace(-1,80,num = 5000)\n",
    "    dimensions = (initial_pop_size, chromosome_length) #100 pairs of a and b values for y=mx+b \n",
    "    return (np.random.choice(gene_pool, size=dimensions, replace=False)) \n",
    "\n",
    "def B(coefficients):\n",
    "\n",
    "    '''\n",
    "This function calculates the mean sum of squared errors for each chromosome. It is the set up for our fitness function.\n",
    "At first, we compute the length of our dataset array and we initialize a tot variable, setting it to 0\n",
    "Then we calculate the difference between the observed value of y and the predicted value of y for our best fit line (using the values of a,b in our chromosome), which is essentially the error \n",
    "We return the mean sum of the squared distances from the points to the best fit line. This is the quantity that we are trying to minimize.\n",
    "    '''\n",
    "    k = len(data)\n",
    "    tot = 0\n",
    "    for j in range(k):\n",
    "        y = coefficients[0] * data[j,0] + coefficients[1] #calculating the regression line from the coefficients\n",
    "        res = data[j,1] - y #for each element, we're calcuting the squared error \n",
    "        tot += res**2\n",
    "    return tot/k #SSE\n",
    "    \n",
    "def C():\n",
    " \n",
    "    '''\n",
    "This is the fitness function for the genetic algorithm. We use it to determine the fitness value for each chromosome, i.e. each pair of (a,b) for our best fit line. \n",
    "We call function B to calculate the mean SSE of our predicted values of y for each solution and store the fitness score in a list \n",
    "Finally, we convert the list into a numpy array.\n",
    "    '''\n",
    "    fitlist = []\n",
    "    for x in range(len(current_pop)):\n",
    "        fitlist.append(np.array([x,B(current_pop[x])])) #for each element in the current population, i'm evaluating the fitness score\n",
    "    return np.array(fitlist)\n",
    "    \n",
    "def D():  \n",
    "    '''\n",
    "This function selects the parent solution in anticipation of reproduction. \n",
    "It returns the chromosome (a,b) which gives the least mean SSE out of a randomly selected sample of 25 chromosomes from the fitness_vector matrix.\n",
    "At first, we are randomly selecting the indexes of 25 parents and using argmin to find which parent yields the least value for our sum of squared error. \n",
    "Then, we find the chromosome from our current population using the index. \n",
    "    '''\n",
    "    random_selection = np.random.choice(range(len(fitness_vector)), num_survivors//2, replace=False) #generates 25 random integers, each within range of 0 and 100 and stores it in an array. Here, we invoke the choice function to randomly select the index positions \n",
    "    best = np.argmin(fitness_vector[random_selection,1])  #here, we are selecting the elements from the 25 indexes we previously generated from column 1 which is where we have the mean sse values. We invoke the argmin function to compare the index values from the fitness vector and return the index of the minimum mean sse along an axis\n",
    "     #index of the list of indexes randomly selected [in the random selection array]\n",
    "    best_index = random_selection[best] #this is the index of random_selection in which the index of the minimum mean sse in the fitness vector is stored\n",
    "    return current_pop[int(fitness_vector[best_index][0])]  #corresponding chromosome is returned \n",
    "\n",
    "def E(): \n",
    "    ''' \n",
    "This is the crossover function.\n",
    "We are first creating a numpy array with the dimensions (200,2) and populating with 0's.\n",
    "Then, we are making 4 copies of our parent chromosomes which were previously generated by our fitness function.\n",
    "The input is our population of 50 parents who have been selected by our fitness function.\n",
    "At first, we take column 0 of the parental chromosome rows i.e. the gradient of the best fit line and append it to our duplicate_survivors array. Then, by using a permutation function, we randomly switch the order of the gradient values.\n",
    "Then, we repeat the same process for column 1 of all parental chromosome rows i.e. the y-intercepts of the best fit line. We add it to our duplicate_survivors array and switch the order similarly through a permutation function.\n",
    "The output is an offspring of reordered pair of gradients and y intercepts. \n",
    "    '''\n",
    "\n",
    "    #copied the offsprings 4 times, which yields different kind of mutation \n",
    "    duplicate_size = len(new_population) - len(survivors) #200\n",
    "    duplicate_survivors = np.zeros((duplicate_size, chromosome_length))\n",
    "    for x in range(chromosome_length): # for each column in the survivor array\n",
    "        duplicate_survivors[:, x] = np.repeat(survivors[:, x], 4, axis=0) # duplicate column 4 times, increasing copies of offspring leads to greater diversity upon crossing over and mutation \n",
    "        duplicate_survivors[:, x] = np.random.permutation(duplicate_survivors[:, x]) #crossing over each offsprig using permutation  \n",
    "    return duplicate_survivors\n",
    "\n",
    "def F(array):  \n",
    "\n",
    "    '''\n",
    "This is the mutation function, \n",
    "which is applied to maintain and introduce diversity in the genetic population and is usually applied with a low probability, so that our algorithm is not reduced to a random search.\n",
    "Since the algorithm tends to converge to a specific point in the search space, mutation does its best to avoid convergence and explore more solutions to ensure global optimality.\n",
    "However, it should be confined to a low value range as the larger the mutation rate, the more the convergence time.\n",
    "Our function use a 5% probability for mutation. \n",
    "It first uses linspace to generate evenly spaced values between -1 and 1 and randomly selects one.\n",
    "We then use random.random() to generate a random float uniformly in the semi-open range [0.0, 1.0).\n",
    "Later, we add our randomly selected number to each element using a 5% probability. \n",
    "Note that generating a number between [-1, 1) means that we will have random additions and subtractions from our chromosome.    \n",
    "    '''\n",
    "\n",
    "    for i in array:\n",
    "        for j in i:\n",
    "            x = random.choice(np.linspace(-1,1,20))\n",
    "            if mutation_rate>random.random():\n",
    "                j = x + j                \n",
    "\n",
    "    return array\n",
    "\n",
    "########################################################################\n",
    "# Start of main program\n",
    "current_pop = A() #initialize a population of possible solutions of shape (100,2)\n",
    "new_population = np.zeros((num_survivors * 5, chromosome_length)) #creating a matrix of 0's of the shape number of survivors [250] and chromosome length\n",
    "\n",
    "# main loop\n",
    "for i in range(num_generations): #terminating condition is the number of generations \n",
    "    \n",
    "    fitness_vector = C() #evaluate the fitness score into an array for each solution \n",
    "    survivors = np.zeros((num_survivors, chromosome_length)) #(50,2) survivors and populating with zeros \n",
    "    for n in range(len(survivors)):#for loop that runs for length of survivors [50]\n",
    "        survivors[n] = D() #using a for loop to populate the zero matrix called survivors with randomly generated parents \n",
    "        #created an array of survivors which is the minimum in the randomly sampled set of parents' sse \n",
    "        #D randomly selects 25 blocks from the initial population and returns 1 chromosome with the least sse. This is repeated 50 times in order to populated the entire zero matrix of survivors \n",
    "        #a lot of times it's selecting the same solution because D is selecting samples with the same survivors [who already had the lowest sse in a previous run]\n",
    "        #this is why in the visualization, we have overlapping points \n",
    "    new_population[:len(survivors)] = survivors #inserting our list of survivors generated by the for loop to the new_population list \n",
    "    new_population[len(survivors):] = E() #populating the remainder of our new_population list with the offspring from our crossover function \n",
    "\n",
    "\n",
    "    new_population = F(new_population) #a mutated version of the offspring \n",
    "    \n",
    "    current_pop = new_population #get the population and repeat the genetic algorithm\n",
    "    new_population = np.zeros((num_survivors * 5, chromosome_length))\n",
    "    \n",
    "\n",
    "fitness_vector = C()\n",
    "best_solution = current_pop[np.argmin(fitness_vector[:,1])]\n",
    "\n",
    "print(\"The best solution is\", best_solution)\n",
    "print(\"with error equal to approximately\", B(best_solution))"
   ]
  },
  {
   "cell_type": "markdown",
   "metadata": {},
   "source": [
    "**Write a paragraph to explain what the parameters at the top of the script are. By experimenting with varying parameter values, determine what values produce solutions that are closest to the actual solution most efficiently. Why do you think this is? [\\~200 words]**\n"
   ]
  },
  {
   "cell_type": "markdown",
   "metadata": {},
   "source": [
    "At first, we are initializing the size of our population. This is essentially a list of possible solutions i.e. possible values of a and b for our best fit line (y=ax+b) in the form of chromosomes. In this algorithm, the size of our population is the same as the length of our dataset. However, when we increase our population size (n=1000), our approximate error decreases on average. A likely reason is that larger populations provide a better representation of different variable combinations. Although a smaller population size yields quicker convergence speed, the algorithm might be more easily trapped in local optima since a small part of the search space is explored. Nevertheless, a smaller population size can be sufficient for smaller problems. Since we only have two variables, we can specify a population size of 10. From a trial and error process, n=50 appears an optimal size. \n",
    "\n",
    "The second parameter is the mutation rate i.e. how often the offsprings produced by a combinantion of the parent solutions is mutated. It's purpose is to introduce variability and reduce the likelihood of the population converging to a sub-optimal solution. A too small mutation rate may result to premature convergence (falling to a local optima instead of a global optima) whereas a too high mutation rate reduces the search ability of our algorithm to a simple random walk.  Our mutation rate is appropriate for this problem. Note that altering the initial size of population affects the error approximation largely, whereas the model is not as sensitive to very high values for the mutation rate.\n",
    "\n",
    "The third parameter is the number of generations and it is initialized to 10. This is the number of times the algorithm will select individuals from the current population and modify them to form new populations. For our algorithm, this serves the purpose of a terminantion condition i.e. it is the maximum number of times our genetic algorithm will run. This is not optimal since a satisfactory solution may or may not have been reached.  \n",
    "\n",
    "Then, we've initialized our chromosome length to 2. Chromosome length is just a proxy for size of solution space, so taking into account the size of the solution space will necessarily increase the accuracy of this proxy. For our problem, we want to find the gradient and the y-intercept for our best-fit line i.e. the (a,b) in y=ax+b that yields the sum of squared errors, therefore 2 is the appropriate value. \n",
    "\n",
    "Lastly, we've initialized the number of survivors for our genetic algorithm. This is essentially the number of solutions [parents] that will be selected for crossing over for each generation. "
   ]
  },
  {
   "cell_type": "markdown",
   "metadata": {},
   "source": [
    "**Write a paragraph that gives an overview of how this program solves the given task, and what the output represents. [\\~200 words]**"
   ]
  },
  {
   "cell_type": "markdown",
   "metadata": {},
   "source": [
    "We are provided with a 2-variable dataset and the problem we are trying to solve is to find the gradient and y-intercept of the best fit line. \n",
    "\n",
    "**Outline**\n",
    "\n",
    "1. [Start] Generate random population of 100 chromosomes. (suitable values for a,b)\n",
    "2. [Fitness] Evaluate the mean sum of squared error of each chromosome in the population.\n",
    "3. [New population] Create a new population by repeating the following steps until the new population is complete.\n",
    "\n",
    "\n",
    "    1. [Selection] Select two parent chromosomes from a population according to their fitness by randomly sampling 25 chromosomes at a time. (the better fitness, the bigger chance to be selected)\n",
    "    2. [Crossover] Copy the parents 4 times (200 chromosomes) and use the permutation function to form offspring solutions. \n",
    "    3. [Mutation] With a mutation probability of 5%, mutate new offspring by randomly adding or subtracting from the chromosome. \n",
    "    4. [Accepting] Place new offspring in the new population. \n",
    "    \n",
    "4. [Replace] Use new generated population for a further run of the algorithm.\n",
    "5. [Terminating Condition] If the end condition (number of generations = 10) is satisfied, stop, and return the best solution in current population.\n",
    "6. [Loop] Go to step 2.\n",
    "\n",
    "The output is a numpy array with the x coordinate as the value of the gradient and the y coordinate as the y-intercept of the best fit line. The algorithm also provides a measure of the error i.e. the mean sum of squared error which expresses the discrepancy between the data and our regression model. "
   ]
  },
  {
   "cell_type": "markdown",
   "metadata": {},
   "source": [
    "**Optimize the code: There are many aspects of the code that could be improved. Choose one part of the code and describe in as much detail as possible a way in which it can be optimized. Then, implement your optimization. Be clear about what you are optimizing for and how your proposal accomplishes this.**\n"
   ]
  },
  {
   "cell_type": "markdown",
   "metadata": {},
   "source": [
    "1) At present, our genetic algorithm (GA) runs for 10 generations. This is also the termination condition, making over-fitting less likely, since the more iterations which occur, the more feedback the GA will have from cross-validation information. However, if the algorithm has terminated due to a maximum number of generations, a satisfactory solution may or may not have been reached. Therefore, I would modify the terminating condition so that the algorithms stops working when it detects there is no change in the best fitness value for some time (given in seconds). \n",
    "\n",
    "\n",
    "2) The larger the population size, the more time required for each iteration. Larger populations do, however, provide a better representation of different variable combinations. One alternative to using a large population size is to use multiple replicate runs. However, this does not allow for interbreeding between potentially useful gene mixtures. Therefore, I would increase the population size and run the GA multiple times to watch for general trends. I would also specify the number of times the GA should be run using the specified parameters and concatenate the results of each cycle together so that they will appear in the results plots. "
   ]
  }
 ],
 "metadata": {
  "colab": {
   "default_view": {},
   "name": "GeneticAlgo.ipynb",
   "provenance": [],
   "version": "0.3.2",
   "views": {}
  },
  "kernelspec": {
   "display_name": "Python 3",
   "language": "python",
   "name": "python3"
  },
  "language_info": {
   "codemirror_mode": {
    "name": "ipython",
    "version": 3
   },
   "file_extension": ".py",
   "mimetype": "text/x-python",
   "name": "python",
   "nbconvert_exporter": "python",
   "pygments_lexer": "ipython3",
   "version": "3.6.1"
  }
 },
 "nbformat": 4,
 "nbformat_minor": 1
}
